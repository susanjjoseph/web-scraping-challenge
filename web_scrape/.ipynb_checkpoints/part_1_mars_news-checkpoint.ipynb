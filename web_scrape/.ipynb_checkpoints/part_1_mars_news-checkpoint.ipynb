{
 "cells": [
  {
   "cell_type": "markdown",
   "metadata": {},
   "source": [
    "# Module 12 Challenge\n",
    "## Deliverable 1: Scrape Titles and Preview Text from Mars News"
   ]
  },
  {
   "cell_type": "code",
   "execution_count": 1,
   "metadata": {},
   "outputs": [],
   "source": [
    "# Import Splinter and BeautifulSoup\n",
    "from splinter import Browser\n",
    "from bs4 import BeautifulSoup as soup"
   ]
  },
  {
   "cell_type": "code",
   "execution_count": 14,
   "metadata": {
    "scrolled": true
   },
   "outputs": [],
   "source": [
    "# executable_path = \"./Google Chrome for Testing.app/\"\n",
    "# browser = Browser('chrome',executable_path=executable_path)\n",
    "browser = Browser('chrome')"
   ]
  },
  {
   "cell_type": "markdown",
   "metadata": {},
   "source": [
    "### Step 1: Visit the Website\n",
    "\n",
    "1. Use automated browsing to visit the [Mars news site](https://static.bc-edx.com/data/web/mars_news/index.html). Inspect the page to identify which elements to scrape.\n",
    "\n",
    "      > **Hint** To identify which elements to scrape, you might want to inspect the page by using Chrome DevTools."
   ]
  },
  {
   "cell_type": "code",
   "execution_count": 15,
   "metadata": {},
   "outputs": [],
   "source": [
    "# Visit the Mars news site\n",
    "url = 'https://static.bc-edx.com/data/web/mars_news/index.html'\n",
    "browser.visit(url)"
   ]
  },
  {
   "cell_type": "markdown",
   "metadata": {},
   "source": [
    "### Step 2: Scrape the Website\n",
    "\n",
    "Create a Beautiful Soup object and use it to extract text elements from the website."
   ]
  },
  {
   "cell_type": "code",
   "execution_count": 30,
   "metadata": {},
   "outputs": [],
   "source": [
    "# Create a Beautiful Soup object\n",
    "html = browser.html\n",
    "page_soup = soup(html, 'html.parser')"
   ]
  },
  {
   "cell_type": "code",
   "execution_count": 50,
   "metadata": {},
   "outputs": [
    {
     "name": "stdout",
     "output_type": "stream",
     "text": [
      "NASA's MAVEN Observes Martian Light Show Caused by Major Solar Storm\n",
      "['content_title']\n",
      "For the first time in its eight years orbiting Mars, NASAâs MAVEN mission witnessed two different types of ultraviolet aurorae simultaneously, the result of solar storms that began on Aug. 27.\n",
      "['article_teaser_body']\n",
      "NASA Prepares to Say 'Farewell' to InSight Spacecraft\n",
      "['content_title']\n",
      "A closer look at what goes into wrapping up the mission as the spacecraftâs power supply continues to dwindle.\n",
      "['article_teaser_body']\n",
      "NASA and ESA Agree on Next Steps to Return Mars Samples to Earth\n",
      "['content_title']\n",
      "The agencyâs Perseverance rover will establish the first sample depot on Mars.\n",
      "['article_teaser_body']\n",
      "NASA's InSight Lander Detects Stunning Meteoroid Impact on Mars\n",
      "['content_title']\n",
      "The agencyâs lander felt the ground shake during the impact while cameras aboard the Mars Reconnaissance Orbiter spotted the yawning new crater from space.\n",
      "['article_teaser_body']\n",
      "NASA To Host Briefing on InSight, Mars Reconnaissance Orbiter Findings\n",
      "['content_title']\n",
      "Scientists from two Mars missions will discuss how they combined images and data for a major finding on the Red Planet.\n",
      "['article_teaser_body']\n",
      "Why NASA Is Trying To Crash Land on Mars\n",
      "['content_title']\n",
      "Like a carâs crumple zone, the experimental SHIELD lander is designed to absorb a hard impact.\n",
      "['article_teaser_body']\n",
      "Curiosity Mars Rover Reaches Long-Awaited Salty Region\n",
      "['content_title']\n",
      "After years of climbing, the Mars rover has arrived at a special region believed to have formed as Marsâ climate was drying.\n",
      "['article_teaser_body']\n",
      "Mars Mission Shields Up for Tests\n",
      "['content_title']\n",
      "Protecting Mars Sample Return spacecraft from micrometeorites requires high-caliber work.\n",
      "['article_teaser_body']\n",
      "NASA's InSight Waits Out Dust Storm\n",
      "['content_title']\n",
      "InSightâs team is taking steps to help the solar-powered lander continue operating for as long as possible.\n",
      "['article_teaser_body']\n",
      "NASA's InSight 'Hears' Its First Meteoroid Impacts on Mars\n",
      "['content_title']\n",
      "The Mars landerâs seismometer has picked up vibrations from four separate impacts in the past two years.\n",
      "['article_teaser_body']\n",
      "NASA's Perseverance Rover Investigates Geologically Rich Mars Terrain\n",
      "['content_title']\n",
      "The latest findings provide greater detail on a region of the Red Planet that has a watery past and is yielding promising samples for the NASA-ESA Mars Sample Return campaign.\n",
      "['article_teaser_body']\n",
      "NASA to Host Briefing on Perseverance Mars Rover Mission Operations\n",
      "['content_title']\n",
      "Members of the mission will discuss the roverâs activities as it gathers samples in an ancient river delta.\n",
      "['article_teaser_body']\n",
      "NASA's Perseverance Makes New Discoveries in Mars' Jezero Crater\n",
      "['content_title']\n",
      "The rover found that Jezero Craterâs floor is made up of volcanic rocks that have interacted with water.\n",
      "['article_teaser_body']\n",
      "10 Years Since Landing, NASA's Curiosity Mars Rover Still Has Drive\n",
      "['content_title']\n",
      "Despite signs of wear, the intrepid spacecraft is about to start an exciting new chapter of its mission as it climbs a Martian mountain.\n",
      "['article_teaser_body']\n",
      "SAM's Top 5 Discoveries Aboard NASA's Curiosity Rover at Mars\n",
      "['content_title']\n",
      "âSelfieâ of the Curiosity rover with inset showing the SAM instrument prior to installation on the rover.\n",
      "['article_teaser_body']\n"
     ]
    }
   ],
   "source": [
    "# Extract all the text elements\n",
    "results = soup.find_all('div',class_=['content_title', 'article_teaser_body'] )"
   ]
  },
  {
   "cell_type": "markdown",
   "metadata": {},
   "source": [
    "### Step 3: Store the Results\n",
    "\n",
    "Extract the titles and preview text of the news articles that you scraped. Store the scraping results in Python data structures as follows:\n",
    "\n",
    "* Store each title-and-preview pair in a Python dictionary. And, give each dictionary two keys: `title` and `preview`. An example is the following:\n",
    "\n",
    "  ```python\n",
    "  {'title': \"NASA's MAVEN Observes Martian Light Show Caused by Major Solar Storm\", \n",
    "   'preview': \"For the first time in its eight years orbiting Mars, NASA’s MAVEN mission witnessed two different types of ultraviolet aurorae simultaneously, the result of solar storms that began on Aug. 27.\"\n",
    "  }\n",
    "  ```\n",
    "\n",
    "* Store all the dictionaries in a Python list.\n",
    "\n",
    "* Print the list in your notebook."
   ]
  },
  {
   "cell_type": "code",
   "execution_count": 55,
   "metadata": {},
   "outputs": [],
   "source": [
    "# Create an empty list to store the dictionaries\n",
    "final_title_prev_pair = []"
   ]
  },
  {
   "cell_type": "code",
   "execution_count": 58,
   "metadata": {},
   "outputs": [
    {
     "name": "stdout",
     "output_type": "stream",
     "text": [
      "NASA's MAVEN Observes Martian Light Show Caused by Major Solar Storm\n",
      "For the first time in its eight years orbiting Mars, NASAâs MAVEN mission witnessed two different types of ultraviolet aurorae simultaneously, the result of solar storms that began on Aug. 27.\n",
      "NASA Prepares to Say 'Farewell' to InSight Spacecraft\n",
      "A closer look at what goes into wrapping up the mission as the spacecraftâs power supply continues to dwindle.\n",
      "NASA and ESA Agree on Next Steps to Return Mars Samples to Earth\n",
      "The agencyâs Perseverance rover will establish the first sample depot on Mars.\n",
      "NASA's InSight Lander Detects Stunning Meteoroid Impact on Mars\n",
      "The agencyâs lander felt the ground shake during the impact while cameras aboard the Mars Reconnaissance Orbiter spotted the yawning new crater from space.\n",
      "NASA To Host Briefing on InSight, Mars Reconnaissance Orbiter Findings\n",
      "Scientists from two Mars missions will discuss how they combined images and data for a major finding on the Red Planet.\n",
      "Why NASA Is Trying To Crash Land on Mars\n",
      "Like a carâs crumple zone, the experimental SHIELD lander is designed to absorb a hard impact.\n",
      "Curiosity Mars Rover Reaches Long-Awaited Salty Region\n",
      "After years of climbing, the Mars rover has arrived at a special region believed to have formed as Marsâ climate was drying.\n",
      "Mars Mission Shields Up for Tests\n",
      "Protecting Mars Sample Return spacecraft from micrometeorites requires high-caliber work.\n",
      "NASA's InSight Waits Out Dust Storm\n",
      "InSightâs team is taking steps to help the solar-powered lander continue operating for as long as possible.\n",
      "NASA's InSight 'Hears' Its First Meteoroid Impacts on Mars\n",
      "The Mars landerâs seismometer has picked up vibrations from four separate impacts in the past two years.\n",
      "NASA's Perseverance Rover Investigates Geologically Rich Mars Terrain\n",
      "The latest findings provide greater detail on a region of the Red Planet that has a watery past and is yielding promising samples for the NASA-ESA Mars Sample Return campaign.\n",
      "NASA to Host Briefing on Perseverance Mars Rover Mission Operations\n",
      "Members of the mission will discuss the roverâs activities as it gathers samples in an ancient river delta.\n",
      "NASA's Perseverance Makes New Discoveries in Mars' Jezero Crater\n",
      "The rover found that Jezero Craterâs floor is made up of volcanic rocks that have interacted with water.\n",
      "10 Years Since Landing, NASA's Curiosity Mars Rover Still Has Drive\n",
      "Despite signs of wear, the intrepid spacecraft is about to start an exciting new chapter of its mission as it climbs a Martian mountain.\n",
      "SAM's Top 5 Discoveries Aboard NASA's Curiosity Rover at Mars\n",
      "âSelfieâ of the Curiosity rover with inset showing the SAM instrument prior to installation on the rover.\n"
     ]
    }
   ],
   "source": [
    "# Loop through the text elements\n",
    "# Extract the title and preview text from the elements\n",
    "# Store each title and preview pair in a dictionary\n",
    "# Add the dictionary to the list\n",
    "title_preview_dict ={\"title\": None,\n",
    "                     \"preview\": None}\n",
    "for item in results:\n",
    "    if item['class'][0] == \"content_title\":\n",
    "        title_preview_dict[\"title\"]=item.text\n",
    "    # else:\n",
    "    #     title_preview_dict[\"preview\"]= item.text\n",
    "    # print(item.text)\n",
    "    # final_title_prev_pair.append(title_preview_dict)\n",
    "    "
   ]
  },
  {
   "cell_type": "code",
   "execution_count": 57,
   "metadata": {},
   "outputs": [
    {
     "data": {
      "text/plain": [
       "[{'title': \"SAM's Top 5 Discoveries Aboard NASA's Curiosity Rover at Mars\",\n",
       "  'preview': 'â\\x80\\x9cSelfieâ\\x80\\x9d of the Curiosity rover with inset showing the SAM instrument prior to installation on the rover.'},\n",
       " {'title': \"SAM's Top 5 Discoveries Aboard NASA's Curiosity Rover at Mars\",\n",
       "  'preview': 'â\\x80\\x9cSelfieâ\\x80\\x9d of the Curiosity rover with inset showing the SAM instrument prior to installation on the rover.'},\n",
       " {'title': \"SAM's Top 5 Discoveries Aboard NASA's Curiosity Rover at Mars\",\n",
       "  'preview': 'â\\x80\\x9cSelfieâ\\x80\\x9d of the Curiosity rover with inset showing the SAM instrument prior to installation on the rover.'},\n",
       " {'title': \"SAM's Top 5 Discoveries Aboard NASA's Curiosity Rover at Mars\",\n",
       "  'preview': 'â\\x80\\x9cSelfieâ\\x80\\x9d of the Curiosity rover with inset showing the SAM instrument prior to installation on the rover.'},\n",
       " {'title': \"SAM's Top 5 Discoveries Aboard NASA's Curiosity Rover at Mars\",\n",
       "  'preview': 'â\\x80\\x9cSelfieâ\\x80\\x9d of the Curiosity rover with inset showing the SAM instrument prior to installation on the rover.'},\n",
       " {'title': \"SAM's Top 5 Discoveries Aboard NASA's Curiosity Rover at Mars\",\n",
       "  'preview': 'â\\x80\\x9cSelfieâ\\x80\\x9d of the Curiosity rover with inset showing the SAM instrument prior to installation on the rover.'},\n",
       " {'title': \"SAM's Top 5 Discoveries Aboard NASA's Curiosity Rover at Mars\",\n",
       "  'preview': 'â\\x80\\x9cSelfieâ\\x80\\x9d of the Curiosity rover with inset showing the SAM instrument prior to installation on the rover.'},\n",
       " {'title': \"SAM's Top 5 Discoveries Aboard NASA's Curiosity Rover at Mars\",\n",
       "  'preview': 'â\\x80\\x9cSelfieâ\\x80\\x9d of the Curiosity rover with inset showing the SAM instrument prior to installation on the rover.'},\n",
       " {'title': \"SAM's Top 5 Discoveries Aboard NASA's Curiosity Rover at Mars\",\n",
       "  'preview': 'â\\x80\\x9cSelfieâ\\x80\\x9d of the Curiosity rover with inset showing the SAM instrument prior to installation on the rover.'},\n",
       " {'title': \"SAM's Top 5 Discoveries Aboard NASA's Curiosity Rover at Mars\",\n",
       "  'preview': 'â\\x80\\x9cSelfieâ\\x80\\x9d of the Curiosity rover with inset showing the SAM instrument prior to installation on the rover.'},\n",
       " {'title': \"SAM's Top 5 Discoveries Aboard NASA's Curiosity Rover at Mars\",\n",
       "  'preview': 'â\\x80\\x9cSelfieâ\\x80\\x9d of the Curiosity rover with inset showing the SAM instrument prior to installation on the rover.'},\n",
       " {'title': \"SAM's Top 5 Discoveries Aboard NASA's Curiosity Rover at Mars\",\n",
       "  'preview': 'â\\x80\\x9cSelfieâ\\x80\\x9d of the Curiosity rover with inset showing the SAM instrument prior to installation on the rover.'},\n",
       " {'title': \"SAM's Top 5 Discoveries Aboard NASA's Curiosity Rover at Mars\",\n",
       "  'preview': 'â\\x80\\x9cSelfieâ\\x80\\x9d of the Curiosity rover with inset showing the SAM instrument prior to installation on the rover.'},\n",
       " {'title': \"SAM's Top 5 Discoveries Aboard NASA's Curiosity Rover at Mars\",\n",
       "  'preview': 'â\\x80\\x9cSelfieâ\\x80\\x9d of the Curiosity rover with inset showing the SAM instrument prior to installation on the rover.'},\n",
       " {'title': \"SAM's Top 5 Discoveries Aboard NASA's Curiosity Rover at Mars\",\n",
       "  'preview': 'â\\x80\\x9cSelfieâ\\x80\\x9d of the Curiosity rover with inset showing the SAM instrument prior to installation on the rover.'},\n",
       " {'title': \"SAM's Top 5 Discoveries Aboard NASA's Curiosity Rover at Mars\",\n",
       "  'preview': 'â\\x80\\x9cSelfieâ\\x80\\x9d of the Curiosity rover with inset showing the SAM instrument prior to installation on the rover.'},\n",
       " {'title': \"SAM's Top 5 Discoveries Aboard NASA's Curiosity Rover at Mars\",\n",
       "  'preview': 'â\\x80\\x9cSelfieâ\\x80\\x9d of the Curiosity rover with inset showing the SAM instrument prior to installation on the rover.'},\n",
       " {'title': \"SAM's Top 5 Discoveries Aboard NASA's Curiosity Rover at Mars\",\n",
       "  'preview': 'â\\x80\\x9cSelfieâ\\x80\\x9d of the Curiosity rover with inset showing the SAM instrument prior to installation on the rover.'},\n",
       " {'title': \"SAM's Top 5 Discoveries Aboard NASA's Curiosity Rover at Mars\",\n",
       "  'preview': 'â\\x80\\x9cSelfieâ\\x80\\x9d of the Curiosity rover with inset showing the SAM instrument prior to installation on the rover.'},\n",
       " {'title': \"SAM's Top 5 Discoveries Aboard NASA's Curiosity Rover at Mars\",\n",
       "  'preview': 'â\\x80\\x9cSelfieâ\\x80\\x9d of the Curiosity rover with inset showing the SAM instrument prior to installation on the rover.'},\n",
       " {'title': \"SAM's Top 5 Discoveries Aboard NASA's Curiosity Rover at Mars\",\n",
       "  'preview': 'â\\x80\\x9cSelfieâ\\x80\\x9d of the Curiosity rover with inset showing the SAM instrument prior to installation on the rover.'},\n",
       " {'title': \"SAM's Top 5 Discoveries Aboard NASA's Curiosity Rover at Mars\",\n",
       "  'preview': 'â\\x80\\x9cSelfieâ\\x80\\x9d of the Curiosity rover with inset showing the SAM instrument prior to installation on the rover.'},\n",
       " {'title': \"SAM's Top 5 Discoveries Aboard NASA's Curiosity Rover at Mars\",\n",
       "  'preview': 'â\\x80\\x9cSelfieâ\\x80\\x9d of the Curiosity rover with inset showing the SAM instrument prior to installation on the rover.'},\n",
       " {'title': \"SAM's Top 5 Discoveries Aboard NASA's Curiosity Rover at Mars\",\n",
       "  'preview': 'â\\x80\\x9cSelfieâ\\x80\\x9d of the Curiosity rover with inset showing the SAM instrument prior to installation on the rover.'},\n",
       " {'title': \"SAM's Top 5 Discoveries Aboard NASA's Curiosity Rover at Mars\",\n",
       "  'preview': 'â\\x80\\x9cSelfieâ\\x80\\x9d of the Curiosity rover with inset showing the SAM instrument prior to installation on the rover.'},\n",
       " {'title': \"SAM's Top 5 Discoveries Aboard NASA's Curiosity Rover at Mars\",\n",
       "  'preview': 'â\\x80\\x9cSelfieâ\\x80\\x9d of the Curiosity rover with inset showing the SAM instrument prior to installation on the rover.'},\n",
       " {'title': \"SAM's Top 5 Discoveries Aboard NASA's Curiosity Rover at Mars\",\n",
       "  'preview': 'â\\x80\\x9cSelfieâ\\x80\\x9d of the Curiosity rover with inset showing the SAM instrument prior to installation on the rover.'},\n",
       " {'title': \"SAM's Top 5 Discoveries Aboard NASA's Curiosity Rover at Mars\",\n",
       "  'preview': 'â\\x80\\x9cSelfieâ\\x80\\x9d of the Curiosity rover with inset showing the SAM instrument prior to installation on the rover.'},\n",
       " {'title': \"SAM's Top 5 Discoveries Aboard NASA's Curiosity Rover at Mars\",\n",
       "  'preview': 'â\\x80\\x9cSelfieâ\\x80\\x9d of the Curiosity rover with inset showing the SAM instrument prior to installation on the rover.'},\n",
       " {'title': \"SAM's Top 5 Discoveries Aboard NASA's Curiosity Rover at Mars\",\n",
       "  'preview': 'â\\x80\\x9cSelfieâ\\x80\\x9d of the Curiosity rover with inset showing the SAM instrument prior to installation on the rover.'}]"
      ]
     },
     "execution_count": 57,
     "metadata": {},
     "output_type": "execute_result"
    }
   ],
   "source": [
    "final_title_prev_pair"
   ]
  },
  {
   "cell_type": "code",
   "execution_count": 8,
   "metadata": {},
   "outputs": [
    {
     "data": {
      "text/plain": [
       "[{'title': \"NASA's MAVEN Observes Martian Light Show Caused by Major Solar Storm\",\n",
       "  'preview': 'For the first time in its eight years orbiting Mars, NASA’s MAVEN mission witnessed two different types of ultraviolet aurorae simultaneously, the result of solar storms that began on Aug. 27.'},\n",
       " {'title': \"NASA Prepares to Say 'Farewell' to InSight Spacecraft\",\n",
       "  'preview': 'A closer look at what goes into wrapping up the mission as the spacecraft’s power supply continues to dwindle.'},\n",
       " {'title': 'NASA and ESA Agree on Next Steps to Return Mars Samples to Earth',\n",
       "  'preview': 'The agency’s Perseverance rover will establish the first sample depot on Mars.'},\n",
       " {'title': \"NASA's InSight Lander Detects Stunning Meteoroid Impact on Mars\",\n",
       "  'preview': 'The agency’s lander felt the ground shake during the impact while cameras aboard the Mars Reconnaissance Orbiter spotted the yawning new crater from space.'},\n",
       " {'title': 'NASA To Host Briefing on InSight, Mars Reconnaissance Orbiter Findings',\n",
       "  'preview': 'Scientists from two Mars missions will discuss how they combined images and data for a major finding on the Red Planet.'},\n",
       " {'title': 'Why NASA Is Trying To Crash Land on Mars',\n",
       "  'preview': 'Like a car’s crumple zone, the experimental SHIELD lander is designed to absorb a hard impact.'},\n",
       " {'title': 'Curiosity Mars Rover Reaches Long-Awaited Salty Region',\n",
       "  'preview': 'After years of climbing, the Mars rover has arrived at a special region believed to have formed as Mars’ climate was drying.'},\n",
       " {'title': 'Mars Mission Shields Up for Tests',\n",
       "  'preview': 'Protecting Mars Sample Return spacecraft from micrometeorites requires high-caliber work.'},\n",
       " {'title': \"NASA's InSight Waits Out Dust Storm\",\n",
       "  'preview': 'InSight’s team is taking steps to help the solar-powered lander continue operating for as long as possible.'},\n",
       " {'title': \"NASA's InSight 'Hears' Its First Meteoroid Impacts on Mars\",\n",
       "  'preview': 'The Mars lander’s seismometer has picked up vibrations from four separate impacts in the past two years.'},\n",
       " {'title': \"NASA's Perseverance Rover Investigates Geologically Rich Mars Terrain\",\n",
       "  'preview': 'The latest findings provide greater detail on a region of the Red Planet that has a watery past and is yielding promising samples for the NASA-ESA Mars Sample Return campaign.'},\n",
       " {'title': 'NASA to Host Briefing on Perseverance Mars Rover Mission Operations',\n",
       "  'preview': 'Members of the mission will discuss the rover’s activities as it gathers samples in an ancient river delta.'},\n",
       " {'title': \"NASA's Perseverance Makes New Discoveries in Mars' Jezero Crater\",\n",
       "  'preview': 'The rover found that Jezero Crater’s floor is made up of volcanic rocks that have interacted with water.'},\n",
       " {'title': \"10 Years Since Landing, NASA's Curiosity Mars Rover Still Has Drive\",\n",
       "  'preview': 'Despite signs of wear, the intrepid spacecraft is about to start an exciting new chapter of its mission as it climbs a Martian mountain.'},\n",
       " {'title': \"SAM's Top 5 Discoveries Aboard NASA's Curiosity Rover at Mars\",\n",
       "  'preview': '“Selfie” of the Curiosity rover with inset showing the SAM instrument prior to installation on the rover.'}]"
      ]
     },
     "execution_count": 8,
     "metadata": {},
     "output_type": "execute_result"
    }
   ],
   "source": [
    "# Print the list to confirm success\n"
   ]
  },
  {
   "cell_type": "code",
   "execution_count": 9,
   "metadata": {},
   "outputs": [],
   "source": [
    "browser.quit()"
   ]
  },
  {
   "cell_type": "code",
   "execution_count": null,
   "metadata": {},
   "outputs": [],
   "source": []
  }
 ],
 "metadata": {
  "kernelspec": {
   "display_name": "Python 3 (ipykernel)",
   "language": "python",
   "name": "python3"
  },
  "language_info": {
   "codemirror_mode": {
    "name": "ipython",
    "version": 3
   },
   "file_extension": ".py",
   "mimetype": "text/x-python",
   "name": "python",
   "nbconvert_exporter": "python",
   "pygments_lexer": "ipython3",
   "version": "3.9.5"
  },
  "vscode": {
   "interpreter": {
    "hash": "31f2aee4e71d21fbe5cf8b01ff0e069b9275f58929596ceb00d14d90e3e16cd6"
   }
  }
 },
 "nbformat": 4,
 "nbformat_minor": 4
}
